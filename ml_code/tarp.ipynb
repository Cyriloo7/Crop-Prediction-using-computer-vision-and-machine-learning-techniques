{
 "cells": [
  {
   "cell_type": "markdown",
   "metadata": {
    "id": "7uoydnN886pu"
   },
   "source": [
    "#Tarp Project"
   ]
  },
  {
   "cell_type": "markdown",
   "metadata": {
    "id": "EqmZWn4T9IIV"
   },
   "source": [
    "##Dataset"
   ]
  },
  {
   "cell_type": "code",
   "execution_count": 1,
   "metadata": {
    "id": "9svmOorgr4pC",
    "ExecuteTime": {
     "start_time": "2023-04-03T23:40:02.359976Z",
     "end_time": "2023-04-03T23:40:03.338603Z"
    }
   },
   "outputs": [],
   "source": [
    "import numpy as np\n",
    "import pandas as pd"
   ]
  },
  {
   "cell_type": "code",
   "execution_count": 3,
   "metadata": {
    "colab": {
     "base_uri": "https://localhost:8080/"
    },
    "id": "Pxuitl8cr4pE",
    "outputId": "426720f9-f0f7-4529-a0d0-e02acb890863",
    "ExecuteTime": {
     "start_time": "2023-04-03T23:40:46.573785Z",
     "end_time": "2023-04-03T23:40:46.632698Z"
    }
   },
   "outputs": [
    {
     "data": {
      "text/plain": "    N   P   K  temperature   humidity        ph    rainfall   \n0  90  42  43    20.879744  82.002744  6.502985  202.935536  \\\n1  85  58  41    21.770462  80.319644  7.038096  226.655537   \n2  60  55  44    23.004459  82.320763  7.840207  263.964248   \n3  74  35  40    26.491096  80.158363  6.980401  242.864034   \n4  78  42  42    20.130175  81.604873  7.628473  262.717340   \n\n                 state   price label  \n0  Andaman and Nicobar    7000  Rice  \n1  Andaman and Nicobar    5000  Rice  \n2  Andaman and Nicobar    7000  Rice  \n3  Andaman and Nicobar    7000  Rice  \n4  Andaman and Nicobar  120000  Rice  ",
      "text/html": "<div>\n<style scoped>\n    .dataframe tbody tr th:only-of-type {\n        vertical-align: middle;\n    }\n\n    .dataframe tbody tr th {\n        vertical-align: top;\n    }\n\n    .dataframe thead th {\n        text-align: right;\n    }\n</style>\n<table border=\"1\" class=\"dataframe\">\n  <thead>\n    <tr style=\"text-align: right;\">\n      <th></th>\n      <th>N</th>\n      <th>P</th>\n      <th>K</th>\n      <th>temperature</th>\n      <th>humidity</th>\n      <th>ph</th>\n      <th>rainfall</th>\n      <th>state</th>\n      <th>price</th>\n      <th>label</th>\n    </tr>\n  </thead>\n  <tbody>\n    <tr>\n      <th>0</th>\n      <td>90</td>\n      <td>42</td>\n      <td>43</td>\n      <td>20.879744</td>\n      <td>82.002744</td>\n      <td>6.502985</td>\n      <td>202.935536</td>\n      <td>Andaman and Nicobar</td>\n      <td>7000</td>\n      <td>Rice</td>\n    </tr>\n    <tr>\n      <th>1</th>\n      <td>85</td>\n      <td>58</td>\n      <td>41</td>\n      <td>21.770462</td>\n      <td>80.319644</td>\n      <td>7.038096</td>\n      <td>226.655537</td>\n      <td>Andaman and Nicobar</td>\n      <td>5000</td>\n      <td>Rice</td>\n    </tr>\n    <tr>\n      <th>2</th>\n      <td>60</td>\n      <td>55</td>\n      <td>44</td>\n      <td>23.004459</td>\n      <td>82.320763</td>\n      <td>7.840207</td>\n      <td>263.964248</td>\n      <td>Andaman and Nicobar</td>\n      <td>7000</td>\n      <td>Rice</td>\n    </tr>\n    <tr>\n      <th>3</th>\n      <td>74</td>\n      <td>35</td>\n      <td>40</td>\n      <td>26.491096</td>\n      <td>80.158363</td>\n      <td>6.980401</td>\n      <td>242.864034</td>\n      <td>Andaman and Nicobar</td>\n      <td>7000</td>\n      <td>Rice</td>\n    </tr>\n    <tr>\n      <th>4</th>\n      <td>78</td>\n      <td>42</td>\n      <td>42</td>\n      <td>20.130175</td>\n      <td>81.604873</td>\n      <td>7.628473</td>\n      <td>262.717340</td>\n      <td>Andaman and Nicobar</td>\n      <td>120000</td>\n      <td>Rice</td>\n    </tr>\n  </tbody>\n</table>\n</div>"
     },
     "execution_count": 3,
     "metadata": {},
     "output_type": "execute_result"
    }
   ],
   "source": [
    "dataset = pd.read_csv(\"C:/Users/cyril/PycharmProjects/Tarp/indiancrop_dataset.csv\")\n",
    "dataset.head()"
   ]
  },
  {
   "cell_type": "code",
   "execution_count": 4,
   "metadata": {
    "id": "D-DgDjawuIrw",
    "ExecuteTime": {
     "start_time": "2023-04-03T23:40:47.631931Z",
     "end_time": "2023-04-03T23:40:47.793331Z"
    }
   },
   "outputs": [],
   "source": [
    "dataset = dataset.drop(['state'],axis=1)"
   ]
  },
  {
   "cell_type": "markdown",
   "metadata": {
    "id": "pQFaQUnz9hFC"
   },
   "source": [
    "##Dataframe For Dataset"
   ]
  },
  {
   "cell_type": "code",
   "execution_count": 5,
   "metadata": {
    "id": "2FHovhVBr4pI",
    "ExecuteTime": {
     "start_time": "2023-04-03T23:40:49.505429Z",
     "end_time": "2023-04-03T23:40:49.514331Z"
    }
   },
   "outputs": [],
   "source": [
    "df1 = pd.DataFrame(dataset)\n",
    "y=pd.DataFrame(df1['label'])\n",
    "data=pd.DataFrame(df1.iloc[:,:-1])"
   ]
  },
  {
   "cell_type": "code",
   "execution_count": 6,
   "metadata": {
    "colab": {
     "base_uri": "https://localhost:8080/"
    },
    "id": "9DB5sziZr4pI",
    "outputId": "94a76d44-c9d1-41a7-a458-71c233e26d60",
    "ExecuteTime": {
     "start_time": "2023-04-03T23:40:51.023034Z",
     "end_time": "2023-04-03T23:40:51.066044Z"
    }
   },
   "outputs": [
    {
     "data": {
      "text/plain": "        N   P   K  temperature   humidity        ph    rainfall   price   \n0      90  42  43    20.879744  82.002744  6.502985  202.935536    7000  \\\n1      85  58  41    21.770462  80.319644  7.038096  226.655537    5000   \n2      60  55  44    23.004459  82.320763  7.840207  263.964248    7000   \n3      74  35  40    26.491096  80.158363  6.980401  242.864034    7000   \n4      78  42  42    20.130175  81.604873  7.628473  262.717340  120000   \n...   ...  ..  ..          ...        ...       ...         ...     ...   \n2195  107  34  32    26.774637  66.413269  6.780064  177.774507    1000   \n2196   99  15  27    27.417112  56.636362  6.086922  127.924610     800   \n2197  118  33  30    24.131797  67.225123  6.362608  173.322839     560   \n2198  117  32  34    26.272418  52.127394  6.758793  127.175293    1500   \n2199  104  18  30    23.603016  60.396475  6.779833  140.937041    1400   \n\n       label  \n0       Rice  \n1       Rice  \n2       Rice  \n3       Rice  \n4       Rice  \n...      ...  \n2195  Coffee  \n2196  Coffee  \n2197  Coffee  \n2198  Coffee  \n2199  Coffee  \n\n[2200 rows x 9 columns]",
      "text/html": "<div>\n<style scoped>\n    .dataframe tbody tr th:only-of-type {\n        vertical-align: middle;\n    }\n\n    .dataframe tbody tr th {\n        vertical-align: top;\n    }\n\n    .dataframe thead th {\n        text-align: right;\n    }\n</style>\n<table border=\"1\" class=\"dataframe\">\n  <thead>\n    <tr style=\"text-align: right;\">\n      <th></th>\n      <th>N</th>\n      <th>P</th>\n      <th>K</th>\n      <th>temperature</th>\n      <th>humidity</th>\n      <th>ph</th>\n      <th>rainfall</th>\n      <th>price</th>\n      <th>label</th>\n    </tr>\n  </thead>\n  <tbody>\n    <tr>\n      <th>0</th>\n      <td>90</td>\n      <td>42</td>\n      <td>43</td>\n      <td>20.879744</td>\n      <td>82.002744</td>\n      <td>6.502985</td>\n      <td>202.935536</td>\n      <td>7000</td>\n      <td>Rice</td>\n    </tr>\n    <tr>\n      <th>1</th>\n      <td>85</td>\n      <td>58</td>\n      <td>41</td>\n      <td>21.770462</td>\n      <td>80.319644</td>\n      <td>7.038096</td>\n      <td>226.655537</td>\n      <td>5000</td>\n      <td>Rice</td>\n    </tr>\n    <tr>\n      <th>2</th>\n      <td>60</td>\n      <td>55</td>\n      <td>44</td>\n      <td>23.004459</td>\n      <td>82.320763</td>\n      <td>7.840207</td>\n      <td>263.964248</td>\n      <td>7000</td>\n      <td>Rice</td>\n    </tr>\n    <tr>\n      <th>3</th>\n      <td>74</td>\n      <td>35</td>\n      <td>40</td>\n      <td>26.491096</td>\n      <td>80.158363</td>\n      <td>6.980401</td>\n      <td>242.864034</td>\n      <td>7000</td>\n      <td>Rice</td>\n    </tr>\n    <tr>\n      <th>4</th>\n      <td>78</td>\n      <td>42</td>\n      <td>42</td>\n      <td>20.130175</td>\n      <td>81.604873</td>\n      <td>7.628473</td>\n      <td>262.717340</td>\n      <td>120000</td>\n      <td>Rice</td>\n    </tr>\n    <tr>\n      <th>...</th>\n      <td>...</td>\n      <td>...</td>\n      <td>...</td>\n      <td>...</td>\n      <td>...</td>\n      <td>...</td>\n      <td>...</td>\n      <td>...</td>\n      <td>...</td>\n    </tr>\n    <tr>\n      <th>2195</th>\n      <td>107</td>\n      <td>34</td>\n      <td>32</td>\n      <td>26.774637</td>\n      <td>66.413269</td>\n      <td>6.780064</td>\n      <td>177.774507</td>\n      <td>1000</td>\n      <td>Coffee</td>\n    </tr>\n    <tr>\n      <th>2196</th>\n      <td>99</td>\n      <td>15</td>\n      <td>27</td>\n      <td>27.417112</td>\n      <td>56.636362</td>\n      <td>6.086922</td>\n      <td>127.924610</td>\n      <td>800</td>\n      <td>Coffee</td>\n    </tr>\n    <tr>\n      <th>2197</th>\n      <td>118</td>\n      <td>33</td>\n      <td>30</td>\n      <td>24.131797</td>\n      <td>67.225123</td>\n      <td>6.362608</td>\n      <td>173.322839</td>\n      <td>560</td>\n      <td>Coffee</td>\n    </tr>\n    <tr>\n      <th>2198</th>\n      <td>117</td>\n      <td>32</td>\n      <td>34</td>\n      <td>26.272418</td>\n      <td>52.127394</td>\n      <td>6.758793</td>\n      <td>127.175293</td>\n      <td>1500</td>\n      <td>Coffee</td>\n    </tr>\n    <tr>\n      <th>2199</th>\n      <td>104</td>\n      <td>18</td>\n      <td>30</td>\n      <td>23.603016</td>\n      <td>60.396475</td>\n      <td>6.779833</td>\n      <td>140.937041</td>\n      <td>1400</td>\n      <td>Coffee</td>\n    </tr>\n  </tbody>\n</table>\n<p>2200 rows × 9 columns</p>\n</div>"
     },
     "execution_count": 6,
     "metadata": {},
     "output_type": "execute_result"
    }
   ],
   "source": [
    "df1"
   ]
  },
  {
   "cell_type": "code",
   "execution_count": 7,
   "metadata": {
    "colab": {
     "base_uri": "https://localhost:8080/"
    },
    "id": "VydzcBf7r4pK",
    "outputId": "0bf3bd27-c418-4fcc-bfa5-f869e984fd6f",
    "ExecuteTime": {
     "start_time": "2023-04-03T23:40:52.528598Z",
     "end_time": "2023-04-03T23:40:52.550407Z"
    }
   },
   "outputs": [
    {
     "name": "stdout",
     "output_type": "stream",
     "text": [
      "<class 'pandas.core.frame.DataFrame'>\n",
      "RangeIndex: 2200 entries, 0 to 2199\n",
      "Data columns (total 9 columns):\n",
      " #   Column       Non-Null Count  Dtype  \n",
      "---  ------       --------------  -----  \n",
      " 0   N            2200 non-null   int64  \n",
      " 1   P            2200 non-null   int64  \n",
      " 2   K            2200 non-null   int64  \n",
      " 3   temperature  2200 non-null   float64\n",
      " 4   humidity     2200 non-null   float64\n",
      " 5   ph           2200 non-null   float64\n",
      " 6   rainfall     2200 non-null   float64\n",
      " 7   price        2200 non-null   int64  \n",
      " 8   label        2200 non-null   object \n",
      "dtypes: float64(4), int64(4), object(1)\n",
      "memory usage: 154.8+ KB\n"
     ]
    }
   ],
   "source": [
    "dataset.info()"
   ]
  },
  {
   "cell_type": "markdown",
   "metadata": {
    "id": "vqu8vrme-PN1"
   },
   "source": [
    "##Label Encoding"
   ]
  },
  {
   "cell_type": "code",
   "execution_count": 8,
   "metadata": {
    "id": "iCsQvoSHr4pL",
    "ExecuteTime": {
     "start_time": "2023-04-03T23:40:55.984530Z",
     "end_time": "2023-04-03T23:40:57.415099Z"
    }
   },
   "outputs": [],
   "source": [
    "from sklearn import preprocessing\n",
    "label_encoder = preprocessing.LabelEncoder()"
   ]
  },
  {
   "cell_type": "code",
   "execution_count": 9,
   "metadata": {
    "colab": {
     "base_uri": "https://localhost:8080/"
    },
    "id": "lOxTLb_ar4pL",
    "outputId": "8ceb417d-a83e-43e5-8935-50851ecd04cd",
    "ExecuteTime": {
     "start_time": "2023-04-03T23:40:57.417156Z",
     "end_time": "2023-04-03T23:40:57.431587Z"
    }
   },
   "outputs": [
    {
     "name": "stderr",
     "output_type": "stream",
     "text": [
      "C:\\Users\\cyril\\PycharmProjects\\Tarp\\New\\Lib\\site-packages\\sklearn\\preprocessing\\_label.py:116: DataConversionWarning: A column-vector y was passed when a 1d array was expected. Please change the shape of y to (n_samples, ), for example using ravel().\n",
      "  y = column_or_1d(y, warn=True)\n"
     ]
    },
    {
     "data": {
      "text/plain": "array([20, 20, 20, ...,  5,  5,  5])"
     },
     "execution_count": 9,
     "metadata": {},
     "output_type": "execute_result"
    }
   ],
   "source": [
    "y = label_encoder.fit_transform(y)\n",
    "y"
   ]
  },
  {
   "cell_type": "markdown",
   "metadata": {
    "id": "iviBbE6br4pK"
   },
   "source": [
    "##Dataset spliting"
   ]
  },
  {
   "cell_type": "code",
   "execution_count": 10,
   "metadata": {
    "id": "tuIeMt5tr4pM",
    "ExecuteTime": {
     "start_time": "2023-04-03T23:40:59.671129Z",
     "end_time": "2023-04-03T23:40:59.827239Z"
    }
   },
   "outputs": [],
   "source": [
    "\n",
    "from sklearn.model_selection import train_test_split\n",
    "x_train, x_test ,y_train ,y_test = train_test_split(data,y,test_size=0.2,random_state=50,stratify=y)\n"
   ]
  },
  {
   "cell_type": "code",
   "execution_count": 11,
   "metadata": {
    "id": "NsOIHoNnr4pM",
    "ExecuteTime": {
     "start_time": "2023-04-03T23:41:00.466405Z",
     "end_time": "2023-04-03T23:41:00.476532Z"
    }
   },
   "outputs": [],
   "source": [
    "#N, P, K, temperature, humidity, ph, rainfall, price = df[\"N\"].median(),  df[\"P\"].median(),df[\"K\"].median(),df[\"temperature\"].median(),df[\"humidity\"].median(),df[\"ph\"].median(),df[\"rainfall\"].median(),df[\"price\"].median()\n"
   ]
  },
  {
   "cell_type": "markdown",
   "metadata": {
    "id": "3kxwHEYM-lzw"
   },
   "source": [
    "##DecisionTreeClassifier"
   ]
  },
  {
   "cell_type": "code",
   "execution_count": 12,
   "metadata": {
    "id": "NkP5qxS3r4pN",
    "ExecuteTime": {
     "start_time": "2023-04-03T23:41:01.744463Z",
     "end_time": "2023-04-03T23:41:01.984237Z"
    }
   },
   "outputs": [],
   "source": [
    "from sklearn import metrics\n",
    "from sklearn.tree import DecisionTreeClassifier\n",
    "\n",
    "DT_entropy = DecisionTreeClassifier()\n",
    "\n"
   ]
  },
  {
   "cell_type": "markdown",
   "metadata": {
    "id": "6VkC3URVItLn"
   },
   "source": [
    "###Bagging"
   ]
  },
  {
   "cell_type": "code",
   "execution_count": 13,
   "metadata": {
    "id": "2Dt4ElfHItLn",
    "ExecuteTime": {
     "start_time": "2023-04-03T23:41:03.402872Z",
     "end_time": "2023-04-03T23:41:04.187888Z"
    }
   },
   "outputs": [],
   "source": [
    "from sklearn.metrics import accuracy_score\n",
    "from sklearn.ensemble import BaggingClassifier\n",
    "import matplotlib.pyplot as plt\n",
    "from sklearn import model_selection"
   ]
  },
  {
   "cell_type": "code",
   "execution_count": 14,
   "metadata": {
    "colab": {
     "base_uri": "https://localhost:8080/"
    },
    "id": "gSNVbQK3ItLo",
    "outputId": "d7c05541-b28d-4472-e415-873b19e76191",
    "ExecuteTime": {
     "start_time": "2023-04-03T23:41:04.183748Z",
     "end_time": "2023-04-03T23:41:04.457471Z"
    }
   },
   "outputs": [
    {
     "name": "stdout",
     "output_type": "stream",
     "text": [
      "0.9954545454545455\n"
     ]
    }
   ],
   "source": [
    "# Create bagging classifier\n",
    "baggingdl = BaggingClassifier(estimator= DT_entropy,n_estimators = 30, random_state = 50)\n",
    "\n",
    "# Fit the model\n",
    "baggingdl.fit(x_train, y_train)\n",
    "\n",
    "# Append the model and score to their respective list\n",
    "print(accuracy_score(y_true = y_test, y_pred = baggingdl.predict(x_test)))\n",
    "\n"
   ]
  },
  {
   "cell_type": "markdown",
   "metadata": {
    "id": "AadMj-tdJFH2"
   },
   "source": [
    "###Boosting"
   ]
  },
  {
   "cell_type": "code",
   "execution_count": 15,
   "metadata": {
    "colab": {
     "base_uri": "https://localhost:8080/"
    },
    "id": "z3DkagH6JFH3",
    "outputId": "3c5fcf2b-6189-4a39-e5b3-ef12104f74d4",
    "ExecuteTime": {
     "start_time": "2023-04-03T23:41:07.235336Z",
     "end_time": "2023-04-03T23:41:07.516650Z"
    }
   },
   "outputs": [
    {
     "name": "stdout",
     "output_type": "stream",
     "text": [
      "0.9954545454545455\n"
     ]
    }
   ],
   "source": [
    "from sklearn.ensemble import AdaBoostClassifier\n",
    "\n",
    "# Create an AdaBoost classifier with 50 base estimators\n",
    "boostingdl = AdaBoostClassifier(estimator=baggingdl, n_estimators=30)\n",
    "\n",
    "boostingdl.fit(x_train, y_train)\n",
    "\n",
    "# Append the model and score to their respective list\n",
    "print(accuracy_score(y_true = y_test, y_pred = boostingdl.predict(x_test)))"
   ]
  },
  {
   "cell_type": "code",
   "execution_count": 16,
   "metadata": {
    "colab": {
     "base_uri": "https://localhost:8080/"
    },
    "id": "CxVL4mhqJFH3",
    "outputId": "b7f133d4-1f4e-4ede-9b98-fd24821a21c5",
    "ExecuteTime": {
     "start_time": "2023-04-03T23:41:08.471375Z",
     "end_time": "2023-04-03T23:41:08.492215Z"
    }
   },
   "outputs": [
    {
     "data": {
      "text/plain": "array(['Lentil', 'Lentil', 'MothBeans', 'Papaya', 'Coconut', 'Orange',\n       'Banana', 'MothBeans', 'Papaya', 'Apple', 'ChickPea', 'Maize',\n       'Grapes', 'Jute', 'Maize', 'Coffee', 'Coconut', 'KidneyBeans',\n       'MungBean', 'Pomegranate', 'Jute', 'Coconut', 'Grapes', 'ChickPea',\n       'Coffee', 'MungBean', 'ChickPea', 'Coffee', 'Maize', 'Pomegranate',\n       'Watermelon', 'MungBean', 'Papaya', 'Blackgram', 'Pomegranate',\n       'Grapes', 'Mango', 'MothBeans', 'Watermelon', 'Pomegranate',\n       'KidneyBeans', 'Blackgram', 'KidneyBeans', 'Watermelon',\n       'Blackgram', 'Coconut', 'Grapes', 'KidneyBeans', 'Jute',\n       'MungBean', 'Cotton', 'Banana', 'Orange', 'KidneyBeans', 'Maize',\n       'ChickPea', 'Maize', 'Jute', 'Coconut', 'Maize', 'Rice', 'Jute',\n       'Grapes', 'Papaya', 'Papaya', 'PigeonPeas', 'MothBeans',\n       'Watermelon', 'Apple', 'Rice', 'Watermelon', 'Rice', 'Maize',\n       'Muskmelon', 'Jute', 'Grapes', 'Mango', 'MothBeans', 'KidneyBeans',\n       'Jute', 'Jute', 'Cotton', 'Maize', 'Lentil', 'Maize', 'MungBean',\n       'Maize', 'Banana', 'ChickPea', 'KidneyBeans', 'Pomegranate',\n       'Apple', 'Mango', 'Coconut', 'MungBean', 'Banana', 'Apple',\n       'Pomegranate', 'Blackgram', 'Mango', 'Coffee', 'Pomegranate',\n       'ChickPea', 'Muskmelon', 'Coconut', 'Apple', 'Lentil', 'Grapes',\n       'Coconut', 'Banana', 'Coffee', 'Cotton', 'Papaya', 'Mango',\n       'Apple', 'MothBeans', 'Papaya', 'Watermelon', 'Grapes', 'Orange',\n       'PigeonPeas', 'Rice', 'Maize', 'Coconut', 'Blackgram', 'Mango',\n       'ChickPea', 'Banana', 'Papaya', 'KidneyBeans', 'Jute', 'MothBeans',\n       'Maize', 'Grapes', 'Blackgram', 'Apple', 'Coffee', 'Maize',\n       'ChickPea', 'Maize', 'Rice', 'Muskmelon', 'Jute', 'MungBean',\n       'Pomegranate', 'Muskmelon', 'ChickPea', 'PigeonPeas', 'Orange',\n       'Coffee', 'Pomegranate', 'MothBeans', 'Watermelon', 'Orange',\n       'Watermelon', 'Cotton', 'Apple', 'Grapes', 'PigeonPeas', 'Grapes',\n       'Coffee', 'MungBean', 'Apple', 'MungBean', 'Papaya', 'KidneyBeans',\n       'Cotton', 'Grapes', 'Blackgram', 'Orange', 'Pomegranate',\n       'Watermelon', 'Pomegranate', 'Orange', 'Muskmelon', 'ChickPea',\n       'Papaya', 'KidneyBeans', 'Cotton', 'PigeonPeas', 'Papaya',\n       'Papaya', 'Lentil', 'Rice', 'Blackgram', 'Coffee', 'Jute', 'Apple',\n       'Mango', 'KidneyBeans', 'ChickPea', 'Blackgram', 'Banana',\n       'Banana', 'PigeonPeas', 'PigeonPeas', 'PigeonPeas', 'MungBean',\n       'Mango', 'Blackgram', 'MungBean', 'Rice', 'Muskmelon',\n       'Pomegranate', 'Lentil', 'Papaya', 'Papaya', 'ChickPea', 'Apple',\n       'Banana', 'Muskmelon', 'Banana', 'MungBean', 'Lentil', 'Lentil',\n       'Maize', 'Coffee', 'Mango', 'MothBeans', 'Muskmelon', 'Rice',\n       'Watermelon', 'Coconut', 'Papaya', 'KidneyBeans', 'Lentil',\n       'Coffee', 'Rice', 'Cotton', 'Muskmelon', 'Coconut', 'Jute', 'Rice',\n       'Grapes', 'Coffee', 'Jute', 'KidneyBeans', 'MothBeans', 'Mango',\n       'Coconut', 'Apple', 'PigeonPeas', 'Jute', 'Pomegranate', 'Lentil',\n       'MungBean', 'Cotton', 'Rice', 'PigeonPeas', 'Mango', 'Papaya',\n       'Apple', 'Mango', 'Lentil', 'Cotton', 'Mango', 'Watermelon',\n       'Banana', 'Muskmelon', 'Banana', 'Lentil', 'Blackgram',\n       'MothBeans', 'Banana', 'PigeonPeas', 'Watermelon', 'Coconut',\n       'Banana', 'Mango', 'Lentil', 'Blackgram', 'MungBean', 'Muskmelon',\n       'ChickPea', 'Apple', 'Muskmelon', 'Cotton', 'Banana', 'MungBean',\n       'PigeonPeas', 'Watermelon', 'Banana', 'Coffee', 'Coconut', 'Jute',\n       'Grapes', 'Cotton', 'Orange', 'MothBeans', 'Cotton', 'Muskmelon',\n       'Mango', 'Lentil', 'Cotton', 'Muskmelon', 'ChickPea', 'Rice',\n       'MothBeans', 'ChickPea', 'Pomegranate', 'Watermelon', 'ChickPea',\n       'Cotton', 'Muskmelon', 'Coffee', 'Cotton', 'MungBean', 'Rice',\n       'Maize', 'Mango', 'Orange', 'Cotton', 'ChickPea', 'MungBean',\n       'Grapes', 'MothBeans', 'KidneyBeans', 'Blackgram', 'Orange',\n       'Jute', 'Banana', 'KidneyBeans', 'Maize', 'Coffee', 'Apple',\n       'PigeonPeas', 'Orange', 'Mango', 'KidneyBeans', 'Rice', 'Coffee',\n       'Watermelon', 'Coconut', 'Jute', 'Coconut', 'MothBeans', 'Grapes',\n       'Papaya', 'Blackgram', 'Muskmelon', 'Jute', 'Muskmelon', 'Orange',\n       'Orange', 'Rice', 'PigeonPeas', 'MothBeans', 'Mango', 'Mango',\n       'PigeonPeas', 'Maize', 'Muskmelon', 'ChickPea', 'Maize', 'Apple',\n       'PigeonPeas', 'Pomegranate', 'Cotton', 'Rice', 'Lentil', 'Orange',\n       'KidneyBeans', 'Watermelon', 'Papaya', 'Pomegranate', 'Cotton',\n       'Orange', 'Grapes', 'Blackgram', 'Blackgram', 'KidneyBeans',\n       'Lentil', 'Pomegranate', 'Coconut', 'MungBean', 'Blackgram',\n       'ChickPea', 'MungBean', 'Banana', 'Blackgram', 'Jute',\n       'KidneyBeans', 'ChickPea', 'Orange', 'Banana', 'MothBeans',\n       'Cotton', 'Grapes', 'MothBeans', 'Cotton', 'Pomegranate',\n       'PigeonPeas', 'Maize', 'PigeonPeas', 'Grapes', 'Jute', 'Apple',\n       'Lentil', 'Rice', 'Mango', 'Watermelon', 'Coffee', 'Grapes',\n       'MungBean', 'Pomegranate', 'PigeonPeas', 'Coffee', 'Blackgram',\n       'Apple', 'Lentil', 'MothBeans', 'Coconut', 'Coffee', 'Orange',\n       'Lentil', 'Orange', 'Watermelon', 'Rice', 'Papaya', 'Watermelon',\n       'Jute', 'Papaya', 'Maize', 'Muskmelon', 'Muskmelon', 'Orange',\n       'Coconut', 'KidneyBeans', 'Apple', 'Lentil', 'Banana', 'MothBeans',\n       'Coconut', 'Coffee', 'Rice', 'Watermelon', 'Apple', 'Pomegranate',\n       'Orange', 'PigeonPeas'], dtype=object)"
     },
     "execution_count": 16,
     "metadata": {},
     "output_type": "execute_result"
    }
   ],
   "source": [
    "y_pred = boostingdl.predict(x_test)\n",
    "label_encoder.inverse_transform(y_pred)"
   ]
  },
  {
   "cell_type": "markdown",
   "metadata": {
    "id": "wMai_cjB-5kp"
   },
   "source": [
    "##SVM"
   ]
  },
  {
   "cell_type": "code",
   "execution_count": 17,
   "metadata": {
    "id": "xCLCS5xvr4pP",
    "ExecuteTime": {
     "start_time": "2023-04-03T23:41:11.337014Z",
     "end_time": "2023-04-03T23:41:11.342323Z"
    }
   },
   "outputs": [],
   "source": [
    "#SVM\n",
    "\n",
    "from sklearn import svm\n",
    "\n",
    "sv = svm.SVC(kernel='rbf', C=1e3,gamma='scale',probability=True)"
   ]
  },
  {
   "cell_type": "markdown",
   "metadata": {
    "id": "g7YAFNwqJJr5"
   },
   "source": [
    "###Bagging"
   ]
  },
  {
   "cell_type": "code",
   "execution_count": 18,
   "metadata": {
    "id": "F3JYaV3zJJr5",
    "ExecuteTime": {
     "start_time": "2023-04-03T23:41:12.927961Z",
     "end_time": "2023-04-03T23:41:12.936004Z"
    }
   },
   "outputs": [],
   "source": [
    "from sklearn.metrics import accuracy_score\n",
    "from sklearn.ensemble import BaggingClassifier\n",
    "import matplotlib.pyplot as plt\n",
    "from sklearn import model_selection"
   ]
  },
  {
   "cell_type": "code",
   "execution_count": 19,
   "metadata": {
    "colab": {
     "base_uri": "https://localhost:8080/"
    },
    "id": "WU1blw2-JJr5",
    "outputId": "4f3039f4-251b-4538-acf5-5498cdc07cdd",
    "ExecuteTime": {
     "start_time": "2023-04-03T23:41:13.777407Z",
     "end_time": "2023-04-03T23:41:58.063669Z"
    }
   },
   "outputs": [
    {
     "name": "stdout",
     "output_type": "stream",
     "text": [
      "0.9454545454545454\n"
     ]
    }
   ],
   "source": [
    "# Create bagging classifier\n",
    "baggingsvm = BaggingClassifier(estimator= sv,n_estimators = 30, random_state = 22)\n",
    "\n",
    "# Fit the model\n",
    "baggingsvm.fit(x_train, y_train)\n",
    "\n",
    "# Append the model and score to their respective list\n",
    "print(accuracy_score(y_true = y_test, y_pred = baggingsvm.predict(x_test)))\n",
    "\n"
   ]
  },
  {
   "cell_type": "markdown",
   "metadata": {
    "id": "cf9ZgC8n--nS"
   },
   "source": [
    "##RandomForestClassifier"
   ]
  },
  {
   "cell_type": "code",
   "execution_count": 20,
   "metadata": {
    "id": "c_ghSw7-r4pQ",
    "ExecuteTime": {
     "start_time": "2023-04-03T23:41:58.064896Z",
     "end_time": "2023-04-03T23:41:58.068650Z"
    }
   },
   "outputs": [],
   "source": [
    "from sklearn.ensemble import RandomForestClassifier"
   ]
  },
  {
   "cell_type": "code",
   "execution_count": 21,
   "metadata": {
    "id": "KMkISbyVr4pQ",
    "ExecuteTime": {
     "start_time": "2023-04-03T23:41:58.069697Z",
     "end_time": "2023-04-03T23:41:58.119725Z"
    }
   },
   "outputs": [],
   "source": [
    "# Train a random forest regressor model\n",
    "rf = RandomForestClassifier(n_estimators=300, criterion = \"gini\", random_state=50)"
   ]
  },
  {
   "cell_type": "markdown",
   "metadata": {
    "id": "2jZY1ZR8_J-j"
   },
   "source": [
    "###Bagging"
   ]
  },
  {
   "cell_type": "code",
   "execution_count": 22,
   "metadata": {
    "id": "ty2lV2jwtu--",
    "ExecuteTime": {
     "start_time": "2023-04-03T23:41:58.094313Z",
     "end_time": "2023-04-03T23:41:58.120747Z"
    }
   },
   "outputs": [],
   "source": [
    "from sklearn.metrics import accuracy_score\n",
    "from sklearn.ensemble import BaggingClassifier\n",
    "import matplotlib.pyplot as plt\n",
    "from sklearn import model_selection"
   ]
  },
  {
   "cell_type": "code",
   "execution_count": 23,
   "metadata": {
    "colab": {
     "base_uri": "https://localhost:8080/"
    },
    "id": "X1Lu7QTztnP6",
    "outputId": "d07b951b-ee53-472f-f2d0-21afdccf0bca",
    "ExecuteTime": {
     "start_time": "2023-04-03T23:41:58.102299Z",
     "end_time": "2023-04-03T23:42:23.398767Z"
    }
   },
   "outputs": [
    {
     "name": "stdout",
     "output_type": "stream",
     "text": [
      "0.9977272727272727\n"
     ]
    }
   ],
   "source": [
    "# Create bagging classifier\n",
    "cl = BaggingClassifier(estimator= rf,n_estimators = 30, random_state = 50)\n",
    "\n",
    "# Fit the model\n",
    "cl.fit(x_train, y_train)\n",
    "\n",
    "# Append the model and score to their respective list\n",
    "print(accuracy_score(y_true = y_test, y_pred = cl.predict(x_test)))\n",
    "\n"
   ]
  },
  {
   "cell_type": "markdown",
   "metadata": {
    "id": "C-ovAsw9_oBY"
   },
   "source": [
    "###Boosting"
   ]
  },
  {
   "cell_type": "code",
   "execution_count": 24,
   "metadata": {
    "colab": {
     "base_uri": "https://localhost:8080/"
    },
    "id": "Ta-O8Kaz8J-q",
    "outputId": "3294bf63-28f0-4f44-9881-f205ad129c11",
    "ExecuteTime": {
     "start_time": "2023-04-03T23:42:23.400901Z",
     "end_time": "2023-04-03T23:42:50.847624Z"
    }
   },
   "outputs": [
    {
     "name": "stdout",
     "output_type": "stream",
     "text": [
      "0.9954545454545455\n"
     ]
    }
   ],
   "source": [
    "from sklearn.ensemble import AdaBoostClassifier\n",
    "\n",
    "# Create an AdaBoost classifier with 50 base estimators\n",
    "boostingrf = AdaBoostClassifier(estimator=cl, n_estimators=30)\n",
    "\n",
    "boostingrf.fit(x_train, y_train)\n",
    "\n",
    "# Append the model and score to their respective list\n",
    "print(accuracy_score(y_true = y_test, y_pred = boostingrf.predict(x_test)))"
   ]
  },
  {
   "cell_type": "code",
   "execution_count": 25,
   "metadata": {
    "colab": {
     "base_uri": "https://localhost:8080/"
    },
    "id": "hEofAMds_AOq",
    "outputId": "6fbf3dcf-af23-4b98-ccac-5f852531645e",
    "ExecuteTime": {
     "start_time": "2023-04-03T23:42:50.848713Z",
     "end_time": "2023-04-03T23:42:51.901766Z"
    }
   },
   "outputs": [
    {
     "data": {
      "text/plain": "array(['Lentil', 'Lentil', 'MothBeans', 'Papaya', 'Coconut', 'Orange',\n       'Banana', 'MothBeans', 'Papaya', 'Apple', 'ChickPea', 'Maize',\n       'Grapes', 'Jute', 'Maize', 'Coffee', 'Coconut', 'KidneyBeans',\n       'MungBean', 'Pomegranate', 'Jute', 'Coconut', 'Grapes', 'ChickPea',\n       'Coffee', 'MungBean', 'ChickPea', 'Coffee', 'Maize', 'Pomegranate',\n       'Watermelon', 'MungBean', 'Papaya', 'Blackgram', 'Pomegranate',\n       'Grapes', 'Mango', 'MothBeans', 'Watermelon', 'Pomegranate',\n       'KidneyBeans', 'Blackgram', 'KidneyBeans', 'Watermelon',\n       'Blackgram', 'Coconut', 'Grapes', 'KidneyBeans', 'Jute',\n       'MungBean', 'Cotton', 'Banana', 'Orange', 'KidneyBeans', 'Maize',\n       'ChickPea', 'Maize', 'Jute', 'Coconut', 'Maize', 'Rice', 'Rice',\n       'Grapes', 'Papaya', 'Papaya', 'PigeonPeas', 'MothBeans',\n       'Watermelon', 'Apple', 'Rice', 'Watermelon', 'Rice', 'Maize',\n       'Muskmelon', 'Jute', 'Grapes', 'Mango', 'MothBeans', 'KidneyBeans',\n       'Jute', 'Jute', 'Cotton', 'Maize', 'Lentil', 'Maize', 'MungBean',\n       'Maize', 'Banana', 'ChickPea', 'KidneyBeans', 'Pomegranate',\n       'Apple', 'Mango', 'Coconut', 'MungBean', 'Banana', 'Apple',\n       'Pomegranate', 'Blackgram', 'Mango', 'Coffee', 'Pomegranate',\n       'ChickPea', 'Muskmelon', 'Coconut', 'Apple', 'Lentil', 'Grapes',\n       'Coconut', 'Banana', 'Coffee', 'Cotton', 'Papaya', 'Mango',\n       'Apple', 'MothBeans', 'Papaya', 'Watermelon', 'Grapes', 'Orange',\n       'PigeonPeas', 'Rice', 'Maize', 'Coconut', 'Blackgram', 'Mango',\n       'ChickPea', 'Banana', 'Papaya', 'KidneyBeans', 'Jute', 'MothBeans',\n       'Maize', 'Grapes', 'Blackgram', 'Apple', 'Coffee', 'Maize',\n       'ChickPea', 'Maize', 'Rice', 'Muskmelon', 'Jute', 'MungBean',\n       'Pomegranate', 'Muskmelon', 'ChickPea', 'PigeonPeas', 'Orange',\n       'Coffee', 'Pomegranate', 'MothBeans', 'Watermelon', 'Orange',\n       'Watermelon', 'Cotton', 'Apple', 'Grapes', 'PigeonPeas', 'Grapes',\n       'Coffee', 'MungBean', 'Apple', 'MungBean', 'Papaya', 'KidneyBeans',\n       'Cotton', 'Grapes', 'Blackgram', 'Orange', 'Pomegranate',\n       'Watermelon', 'Pomegranate', 'Orange', 'Muskmelon', 'ChickPea',\n       'Papaya', 'KidneyBeans', 'Cotton', 'PigeonPeas', 'Papaya',\n       'Papaya', 'Lentil', 'Rice', 'Blackgram', 'Coffee', 'Jute', 'Apple',\n       'Mango', 'KidneyBeans', 'ChickPea', 'Blackgram', 'Banana',\n       'Banana', 'PigeonPeas', 'PigeonPeas', 'PigeonPeas', 'MungBean',\n       'Mango', 'Blackgram', 'MungBean', 'Rice', 'Muskmelon',\n       'Pomegranate', 'Lentil', 'Papaya', 'Papaya', 'ChickPea', 'Apple',\n       'Banana', 'Muskmelon', 'Banana', 'MungBean', 'Lentil', 'Lentil',\n       'Maize', 'Coffee', 'Mango', 'MothBeans', 'Muskmelon', 'Rice',\n       'Watermelon', 'Coconut', 'Papaya', 'KidneyBeans', 'Lentil',\n       'Coffee', 'Rice', 'Cotton', 'Muskmelon', 'Coconut', 'Jute', 'Rice',\n       'Grapes', 'Coffee', 'Jute', 'KidneyBeans', 'MothBeans', 'Mango',\n       'Coconut', 'Apple', 'PigeonPeas', 'Jute', 'Pomegranate', 'Lentil',\n       'MungBean', 'Cotton', 'Rice', 'PigeonPeas', 'Mango', 'Papaya',\n       'Apple', 'Mango', 'Lentil', 'Cotton', 'Mango', 'Watermelon',\n       'Banana', 'Muskmelon', 'Banana', 'Lentil', 'Blackgram',\n       'MothBeans', 'Banana', 'PigeonPeas', 'Watermelon', 'Coconut',\n       'Banana', 'Mango', 'Lentil', 'Blackgram', 'MungBean', 'Muskmelon',\n       'ChickPea', 'Apple', 'Muskmelon', 'Cotton', 'Banana', 'MungBean',\n       'PigeonPeas', 'Watermelon', 'Banana', 'Coffee', 'Coconut', 'Jute',\n       'Grapes', 'Cotton', 'Orange', 'MothBeans', 'Cotton', 'Muskmelon',\n       'Mango', 'Lentil', 'Cotton', 'Muskmelon', 'ChickPea', 'Rice',\n       'MothBeans', 'ChickPea', 'Pomegranate', 'Watermelon', 'ChickPea',\n       'Cotton', 'Muskmelon', 'Coffee', 'Cotton', 'MungBean', 'Rice',\n       'Maize', 'Mango', 'Orange', 'Cotton', 'ChickPea', 'MungBean',\n       'Grapes', 'MothBeans', 'KidneyBeans', 'Blackgram', 'Orange',\n       'Jute', 'Banana', 'KidneyBeans', 'Maize', 'Coffee', 'Apple',\n       'PigeonPeas', 'Orange', 'Mango', 'KidneyBeans', 'Rice', 'Coffee',\n       'Watermelon', 'Coconut', 'Jute', 'Coconut', 'MothBeans', 'Grapes',\n       'Papaya', 'Blackgram', 'Muskmelon', 'Jute', 'Muskmelon', 'Orange',\n       'Orange', 'Rice', 'PigeonPeas', 'MothBeans', 'Mango', 'Mango',\n       'PigeonPeas', 'Maize', 'Muskmelon', 'ChickPea', 'Maize', 'Apple',\n       'PigeonPeas', 'Pomegranate', 'Cotton', 'Rice', 'Lentil', 'Orange',\n       'KidneyBeans', 'Watermelon', 'Papaya', 'Pomegranate', 'Cotton',\n       'Orange', 'Grapes', 'Blackgram', 'Blackgram', 'KidneyBeans',\n       'Lentil', 'Pomegranate', 'Coconut', 'MungBean', 'Blackgram',\n       'ChickPea', 'MungBean', 'Banana', 'Blackgram', 'Jute',\n       'KidneyBeans', 'ChickPea', 'Orange', 'Banana', 'MothBeans',\n       'Cotton', 'Grapes', 'MothBeans', 'Cotton', 'Pomegranate',\n       'PigeonPeas', 'Blackgram', 'PigeonPeas', 'Grapes', 'Jute', 'Apple',\n       'Lentil', 'Rice', 'Mango', 'Watermelon', 'Coffee', 'Grapes',\n       'MungBean', 'Pomegranate', 'PigeonPeas', 'Coffee', 'Blackgram',\n       'Apple', 'Lentil', 'MothBeans', 'Coconut', 'Coffee', 'Orange',\n       'Lentil', 'Orange', 'Watermelon', 'Rice', 'Papaya', 'Watermelon',\n       'Jute', 'Papaya', 'Maize', 'Muskmelon', 'Muskmelon', 'Orange',\n       'Coconut', 'KidneyBeans', 'Apple', 'Lentil', 'Banana', 'MothBeans',\n       'Coconut', 'Coffee', 'Rice', 'Watermelon', 'Apple', 'Pomegranate',\n       'Orange', 'PigeonPeas'], dtype=object)"
     },
     "execution_count": 25,
     "metadata": {},
     "output_type": "execute_result"
    }
   ],
   "source": [
    "y_pred = boostingrf.predict(x_test)\n",
    "label_encoder.inverse_transform(y_pred)"
   ]
  },
  {
   "cell_type": "markdown",
   "metadata": {
    "id": "LXGE4pPZAKuj"
   },
   "source": [
    "##Voting"
   ]
  },
  {
   "cell_type": "code",
   "execution_count": 26,
   "metadata": {
    "id": "fta8yqGB8Yxm",
    "ExecuteTime": {
     "start_time": "2023-04-03T23:42:51.901766Z",
     "end_time": "2023-04-03T23:42:51.905853Z"
    }
   },
   "outputs": [],
   "source": [
    "from sklearn.ensemble import VotingClassifier"
   ]
  },
  {
   "cell_type": "code",
   "execution_count": 27,
   "metadata": {
    "colab": {
     "base_uri": "https://localhost:8080/",
     "height": 206
    },
    "id": "jyevklGP8lFQ",
    "outputId": "07c23523-376e-4cae-a0e0-0195ffef6cf2",
    "ExecuteTime": {
     "start_time": "2023-04-03T23:42:51.907859Z",
     "end_time": "2023-04-03T23:45:13.113004Z"
    }
   },
   "outputs": [
    {
     "data": {
      "text/plain": "VotingClassifier(estimators=[('boostingrf',\n                              AdaBoostClassifier(estimator=BaggingClassifier(estimator=RandomForestClassifier(n_estimators=300,\n                                                                                                              random_state=50),\n                                                                             n_estimators=30,\n                                                                             random_state=50),\n                                                 n_estimators=30)),\n                             ('baggingsvm',\n                              BaggingClassifier(estimator=SVC(C=1000.0,\n                                                              probability=True),\n                                                n_estimators=30,\n                                                random_state=22)),\n                             ('boostingdl',\n                              AdaBoostClassifier(estimator=BaggingClassifier(estimator=DecisionTreeClassifier(),\n                                                                             n_estimators=30,\n                                                                             random_state=50),\n                                                 n_estimators=30))],\n                 voting='soft')",
      "text/html": "<style>#sk-container-id-1 {color: black;background-color: white;}#sk-container-id-1 pre{padding: 0;}#sk-container-id-1 div.sk-toggleable {background-color: white;}#sk-container-id-1 label.sk-toggleable__label {cursor: pointer;display: block;width: 100%;margin-bottom: 0;padding: 0.3em;box-sizing: border-box;text-align: center;}#sk-container-id-1 label.sk-toggleable__label-arrow:before {content: \"▸\";float: left;margin-right: 0.25em;color: #696969;}#sk-container-id-1 label.sk-toggleable__label-arrow:hover:before {color: black;}#sk-container-id-1 div.sk-estimator:hover label.sk-toggleable__label-arrow:before {color: black;}#sk-container-id-1 div.sk-toggleable__content {max-height: 0;max-width: 0;overflow: hidden;text-align: left;background-color: #f0f8ff;}#sk-container-id-1 div.sk-toggleable__content pre {margin: 0.2em;color: black;border-radius: 0.25em;background-color: #f0f8ff;}#sk-container-id-1 input.sk-toggleable__control:checked~div.sk-toggleable__content {max-height: 200px;max-width: 100%;overflow: auto;}#sk-container-id-1 input.sk-toggleable__control:checked~label.sk-toggleable__label-arrow:before {content: \"▾\";}#sk-container-id-1 div.sk-estimator input.sk-toggleable__control:checked~label.sk-toggleable__label {background-color: #d4ebff;}#sk-container-id-1 div.sk-label input.sk-toggleable__control:checked~label.sk-toggleable__label {background-color: #d4ebff;}#sk-container-id-1 input.sk-hidden--visually {border: 0;clip: rect(1px 1px 1px 1px);clip: rect(1px, 1px, 1px, 1px);height: 1px;margin: -1px;overflow: hidden;padding: 0;position: absolute;width: 1px;}#sk-container-id-1 div.sk-estimator {font-family: monospace;background-color: #f0f8ff;border: 1px dotted black;border-radius: 0.25em;box-sizing: border-box;margin-bottom: 0.5em;}#sk-container-id-1 div.sk-estimator:hover {background-color: #d4ebff;}#sk-container-id-1 div.sk-parallel-item::after {content: \"\";width: 100%;border-bottom: 1px solid gray;flex-grow: 1;}#sk-container-id-1 div.sk-label:hover label.sk-toggleable__label {background-color: #d4ebff;}#sk-container-id-1 div.sk-serial::before {content: \"\";position: absolute;border-left: 1px solid gray;box-sizing: border-box;top: 0;bottom: 0;left: 50%;z-index: 0;}#sk-container-id-1 div.sk-serial {display: flex;flex-direction: column;align-items: center;background-color: white;padding-right: 0.2em;padding-left: 0.2em;position: relative;}#sk-container-id-1 div.sk-item {position: relative;z-index: 1;}#sk-container-id-1 div.sk-parallel {display: flex;align-items: stretch;justify-content: center;background-color: white;position: relative;}#sk-container-id-1 div.sk-item::before, #sk-container-id-1 div.sk-parallel-item::before {content: \"\";position: absolute;border-left: 1px solid gray;box-sizing: border-box;top: 0;bottom: 0;left: 50%;z-index: -1;}#sk-container-id-1 div.sk-parallel-item {display: flex;flex-direction: column;z-index: 1;position: relative;background-color: white;}#sk-container-id-1 div.sk-parallel-item:first-child::after {align-self: flex-end;width: 50%;}#sk-container-id-1 div.sk-parallel-item:last-child::after {align-self: flex-start;width: 50%;}#sk-container-id-1 div.sk-parallel-item:only-child::after {width: 0;}#sk-container-id-1 div.sk-dashed-wrapped {border: 1px dashed gray;margin: 0 0.4em 0.5em 0.4em;box-sizing: border-box;padding-bottom: 0.4em;background-color: white;}#sk-container-id-1 div.sk-label label {font-family: monospace;font-weight: bold;display: inline-block;line-height: 1.2em;}#sk-container-id-1 div.sk-label-container {text-align: center;}#sk-container-id-1 div.sk-container {/* jupyter's `normalize.less` sets `[hidden] { display: none; }` but bootstrap.min.css set `[hidden] { display: none !important; }` so we also need the `!important` here to be able to override the default hidden behavior on the sphinx rendered scikit-learn.org. See: https://github.com/scikit-learn/scikit-learn/issues/21755 */display: inline-block !important;position: relative;}#sk-container-id-1 div.sk-text-repr-fallback {display: none;}</style><div id=\"sk-container-id-1\" class=\"sk-top-container\"><div class=\"sk-text-repr-fallback\"><pre>VotingClassifier(estimators=[(&#x27;boostingrf&#x27;,\n                              AdaBoostClassifier(estimator=BaggingClassifier(estimator=RandomForestClassifier(n_estimators=300,\n                                                                                                              random_state=50),\n                                                                             n_estimators=30,\n                                                                             random_state=50),\n                                                 n_estimators=30)),\n                             (&#x27;baggingsvm&#x27;,\n                              BaggingClassifier(estimator=SVC(C=1000.0,\n                                                              probability=True),\n                                                n_estimators=30,\n                                                random_state=22)),\n                             (&#x27;boostingdl&#x27;,\n                              AdaBoostClassifier(estimator=BaggingClassifier(estimator=DecisionTreeClassifier(),\n                                                                             n_estimators=30,\n                                                                             random_state=50),\n                                                 n_estimators=30))],\n                 voting=&#x27;soft&#x27;)</pre><b>In a Jupyter environment, please rerun this cell to show the HTML representation or trust the notebook. <br />On GitHub, the HTML representation is unable to render, please try loading this page with nbviewer.org.</b></div><div class=\"sk-container\" hidden><div class=\"sk-item sk-dashed-wrapped\"><div class=\"sk-label-container\"><div class=\"sk-label sk-toggleable\"><input class=\"sk-toggleable__control sk-hidden--visually\" id=\"sk-estimator-id-1\" type=\"checkbox\" ><label for=\"sk-estimator-id-1\" class=\"sk-toggleable__label sk-toggleable__label-arrow\">VotingClassifier</label><div class=\"sk-toggleable__content\"><pre>VotingClassifier(estimators=[(&#x27;boostingrf&#x27;,\n                              AdaBoostClassifier(estimator=BaggingClassifier(estimator=RandomForestClassifier(n_estimators=300,\n                                                                                                              random_state=50),\n                                                                             n_estimators=30,\n                                                                             random_state=50),\n                                                 n_estimators=30)),\n                             (&#x27;baggingsvm&#x27;,\n                              BaggingClassifier(estimator=SVC(C=1000.0,\n                                                              probability=True),\n                                                n_estimators=30,\n                                                random_state=22)),\n                             (&#x27;boostingdl&#x27;,\n                              AdaBoostClassifier(estimator=BaggingClassifier(estimator=DecisionTreeClassifier(),\n                                                                             n_estimators=30,\n                                                                             random_state=50),\n                                                 n_estimators=30))],\n                 voting=&#x27;soft&#x27;)</pre></div></div></div><div class=\"sk-parallel\"><div class=\"sk-parallel-item\"><div class=\"sk-item\"><div class=\"sk-label-container\"><div class=\"sk-label sk-toggleable\"><label>boostingrf</label></div></div><div class=\"sk-serial\"><div class=\"sk-item sk-dashed-wrapped\"><div class=\"sk-parallel\"><div class=\"sk-parallel-item\"><div class=\"sk-item\"><div class=\"sk-label-container\"><div class=\"sk-label sk-toggleable\"><input class=\"sk-toggleable__control sk-hidden--visually\" id=\"sk-estimator-id-2\" type=\"checkbox\" ><label for=\"sk-estimator-id-2\" class=\"sk-toggleable__label sk-toggleable__label-arrow\">estimator: BaggingClassifier</label><div class=\"sk-toggleable__content\"><pre>BaggingClassifier(estimator=RandomForestClassifier(n_estimators=300,\n                                                   random_state=50),\n                  n_estimators=30, random_state=50)</pre></div></div></div><div class=\"sk-serial\"><div class=\"sk-item sk-dashed-wrapped\"><div class=\"sk-parallel\"><div class=\"sk-parallel-item\"><div class=\"sk-item\"><div class=\"sk-label-container\"><div class=\"sk-label sk-toggleable\"><input class=\"sk-toggleable__control sk-hidden--visually\" id=\"sk-estimator-id-3\" type=\"checkbox\" ><label for=\"sk-estimator-id-3\" class=\"sk-toggleable__label sk-toggleable__label-arrow\">estimator: RandomForestClassifier</label><div class=\"sk-toggleable__content\"><pre>RandomForestClassifier(n_estimators=300, random_state=50)</pre></div></div></div><div class=\"sk-serial\"><div class=\"sk-item\"><div class=\"sk-estimator sk-toggleable\"><input class=\"sk-toggleable__control sk-hidden--visually\" id=\"sk-estimator-id-4\" type=\"checkbox\" ><label for=\"sk-estimator-id-4\" class=\"sk-toggleable__label sk-toggleable__label-arrow\">RandomForestClassifier</label><div class=\"sk-toggleable__content\"><pre>RandomForestClassifier(n_estimators=300, random_state=50)</pre></div></div></div></div></div></div></div></div></div></div></div></div></div></div></div></div><div class=\"sk-parallel-item\"><div class=\"sk-item\"><div class=\"sk-label-container\"><div class=\"sk-label sk-toggleable\"><label>baggingsvm</label></div></div><div class=\"sk-serial\"><div class=\"sk-item sk-dashed-wrapped\"><div class=\"sk-parallel\"><div class=\"sk-parallel-item\"><div class=\"sk-item\"><div class=\"sk-label-container\"><div class=\"sk-label sk-toggleable\"><input class=\"sk-toggleable__control sk-hidden--visually\" id=\"sk-estimator-id-5\" type=\"checkbox\" ><label for=\"sk-estimator-id-5\" class=\"sk-toggleable__label sk-toggleable__label-arrow\">estimator: SVC</label><div class=\"sk-toggleable__content\"><pre>SVC(C=1000.0, probability=True)</pre></div></div></div><div class=\"sk-serial\"><div class=\"sk-item\"><div class=\"sk-estimator sk-toggleable\"><input class=\"sk-toggleable__control sk-hidden--visually\" id=\"sk-estimator-id-6\" type=\"checkbox\" ><label for=\"sk-estimator-id-6\" class=\"sk-toggleable__label sk-toggleable__label-arrow\">SVC</label><div class=\"sk-toggleable__content\"><pre>SVC(C=1000.0, probability=True)</pre></div></div></div></div></div></div></div></div></div></div></div><div class=\"sk-parallel-item\"><div class=\"sk-item\"><div class=\"sk-label-container\"><div class=\"sk-label sk-toggleable\"><label>boostingdl</label></div></div><div class=\"sk-serial\"><div class=\"sk-item sk-dashed-wrapped\"><div class=\"sk-parallel\"><div class=\"sk-parallel-item\"><div class=\"sk-item\"><div class=\"sk-label-container\"><div class=\"sk-label sk-toggleable\"><input class=\"sk-toggleable__control sk-hidden--visually\" id=\"sk-estimator-id-7\" type=\"checkbox\" ><label for=\"sk-estimator-id-7\" class=\"sk-toggleable__label sk-toggleable__label-arrow\">estimator: BaggingClassifier</label><div class=\"sk-toggleable__content\"><pre>BaggingClassifier(estimator=DecisionTreeClassifier(), n_estimators=30,\n                  random_state=50)</pre></div></div></div><div class=\"sk-serial\"><div class=\"sk-item sk-dashed-wrapped\"><div class=\"sk-parallel\"><div class=\"sk-parallel-item\"><div class=\"sk-item\"><div class=\"sk-label-container\"><div class=\"sk-label sk-toggleable\"><input class=\"sk-toggleable__control sk-hidden--visually\" id=\"sk-estimator-id-8\" type=\"checkbox\" ><label for=\"sk-estimator-id-8\" class=\"sk-toggleable__label sk-toggleable__label-arrow\">estimator: DecisionTreeClassifier</label><div class=\"sk-toggleable__content\"><pre>DecisionTreeClassifier()</pre></div></div></div><div class=\"sk-serial\"><div class=\"sk-item\"><div class=\"sk-estimator sk-toggleable\"><input class=\"sk-toggleable__control sk-hidden--visually\" id=\"sk-estimator-id-9\" type=\"checkbox\" ><label for=\"sk-estimator-id-9\" class=\"sk-toggleable__label sk-toggleable__label-arrow\">DecisionTreeClassifier</label><div class=\"sk-toggleable__content\"><pre>DecisionTreeClassifier()</pre></div></div></div></div></div></div></div></div></div></div></div></div></div></div></div></div></div></div></div></div>"
     },
     "execution_count": 27,
     "metadata": {},
     "output_type": "execute_result"
    }
   ],
   "source": [
    "# Create a voting classifier with hard voting\n",
    "voting_hard = VotingClassifier(estimators=[('boostingrf', boostingrf), ('baggingsvm', baggingsvm), ('boostingdl', boostingdl)], voting='hard')\n",
    "\n",
    "# Create a voting classifier with soft voting\n",
    "voting_soft = VotingClassifier(estimators=[('boostingrf', boostingrf), ('baggingsvm', baggingsvm), ('boostingdl', boostingdl)], voting='soft')\n",
    "\n",
    "# Fit the voting classifiers on the training data\n",
    "voting_hard.fit(x_train, y_train)\n",
    "voting_soft.fit(x_train, y_train)"
   ]
  },
  {
   "cell_type": "code",
   "execution_count": 28,
   "metadata": {
    "colab": {
     "base_uri": "https://localhost:8080/"
    },
    "id": "k4nQ34w2Akmn",
    "outputId": "134e3d97-0005-4f29-a1d2-d084257b910b",
    "ExecuteTime": {
     "start_time": "2023-04-03T23:45:13.117559Z",
     "end_time": "2023-04-03T23:45:22.410574Z"
    }
   },
   "outputs": [
    {
     "name": "stdout",
     "output_type": "stream",
     "text": [
      "Hard Voting\n",
      "Train Data :  1.0\n",
      "Test Data :  0.9954545454545455\n"
     ]
    }
   ],
   "source": [
    "print(\"Hard Voting\")\n",
    "print(\"Train Data : \",accuracy_score(y_true = y_train, y_pred = voting_hard.predict(x_train)))\n",
    "print(\"Test Data : \",accuracy_score(y_true = y_test, y_pred = voting_hard.predict(x_test)))"
   ]
  },
  {
   "cell_type": "code",
   "execution_count": 29,
   "metadata": {
    "id": "XntphxFHA-7w",
    "outputId": "9acb9be6-5c9e-4821-aaa0-25f0b05dd9ef",
    "colab": {
     "base_uri": "https://localhost:8080/"
    },
    "ExecuteTime": {
     "start_time": "2023-04-03T23:45:22.412577Z",
     "end_time": "2023-04-03T23:45:31.806654Z"
    }
   },
   "outputs": [
    {
     "name": "stdout",
     "output_type": "stream",
     "text": [
      "soft Voting\n",
      "Train Data :  1.0\n",
      "Test Data :  0.9954545454545455\n"
     ]
    }
   ],
   "source": [
    "print(\"soft Voting\")\n",
    "print(\"Train Data : \",accuracy_score(y_true = y_train, y_pred = voting_hard.predict(x_train)))\n",
    "print(\"Test Data : \",accuracy_score(y_true = y_test, y_pred = voting_soft.predict(x_test)))"
   ]
  },
  {
   "cell_type": "code",
   "execution_count": 30,
   "metadata": {
    "id": "c3PP2mFjIhkl",
    "colab": {
     "base_uri": "https://localhost:8080/",
     "height": 206
    },
    "outputId": "8c813dea-74e3-422c-9eb3-a11498aef549",
    "ExecuteTime": {
     "start_time": "2023-04-03T23:41:32.650718Z",
     "end_time": "2023-04-03T23:45:34.021333Z"
    }
   },
   "outputs": [],
   "source": [
    "voting_hard"
   ]
  },
  {
   "cell_type": "code",
   "execution_count": 31,
   "metadata": {
    "id": "br_3KOtfIlBH",
    "colab": {
     "base_uri": "https://localhost:8080/",
     "height": 206
    },
    "outputId": "5070e84f-2747-4e7b-d0ec-f325add3b20a",
    "ExecuteTime": {
     "start_time": "2023-04-03T23:41:34.212408Z",
     "end_time": "2023-04-03T23:45:34.025399Z"
    }
   },
   "outputs": [],
   "source": [
    "voting_soft"
   ]
  },
  {
   "cell_type": "markdown",
   "source": [
    "##Prediction"
   ],
   "metadata": {
    "id": "_DfhwxcmVDiH"
   }
  },
  {
   "cell_type": "code",
   "source": [
    "sample=np.array([60,38,29,25,23,3,426,7586]).reshape(1,-1)"
   ],
   "metadata": {
    "id": "574fBrzGXZtj",
    "ExecuteTime": {
     "start_time": "2023-04-03T23:41:37.723625Z",
     "end_time": "2023-04-03T23:45:34.026475Z"
    }
   },
   "execution_count": 32,
   "outputs": []
  },
  {
   "cell_type": "code",
   "source": [
    "y_pred= voting_hard.predict(sample)\n",
    "lab1=label_encoder.inverse_transform(y_pred)\n",
    "lab1"
   ],
   "metadata": {
    "colab": {
     "base_uri": "https://localhost:8080/"
    },
    "id": "lXCB2wd8VFZ9",
    "outputId": "02f50b40-66ce-4d92-afba-68d8707ff684",
    "ExecuteTime": {
     "start_time": "2023-04-03T23:41:38.189413Z",
     "end_time": "2023-04-03T23:45:34.026475Z"
    }
   },
   "execution_count": 33,
   "outputs": []
  },
  {
   "cell_type": "code",
   "source": [
    "lab2=label_encoder.inverse_transform(y_pred)\n",
    "lab2"
   ],
   "metadata": {
    "colab": {
     "base_uri": "https://localhost:8080/"
    },
    "id": "zJSCqNzVWwVU",
    "outputId": "c64f9c22-7d5d-466d-9041-0970cb9d8622",
    "ExecuteTime": {
     "start_time": "2023-04-03T23:41:39.410291Z",
     "end_time": "2023-04-03T23:45:34.029537Z"
    }
   },
   "execution_count": 34,
   "outputs": []
  },
  {
   "cell_type": "code",
   "source": [],
   "metadata": {
    "id": "EztXLmSqZyx6",
    "ExecuteTime": {
     "start_time": "2023-04-03T23:41:40.507399Z",
     "end_time": "2023-04-03T23:45:34.030538Z"
    }
   },
   "execution_count": 34,
   "outputs": []
  },
  {
   "cell_type": "markdown",
   "source": [
    "##Saving The Model"
   ],
   "metadata": {
    "id": "CsvJVWP0Zz6K"
   }
  },
  {
   "cell_type": "code",
   "source": [
    "import pickle"
   ],
   "metadata": {
    "id": "08U1KwGAZ22J",
    "ExecuteTime": {
     "start_time": "2023-04-03T23:41:41.716381Z",
     "end_time": "2023-04-03T23:45:34.030538Z"
    }
   },
   "execution_count": 35,
   "outputs": []
  },
  {
   "cell_type": "code",
   "source": [
    "# save the model as a file\n",
    "with open('model.pkl', 'wb') as file:\n",
    "    pickle.dump(voting_hard, file)"
   ],
   "metadata": {
    "id": "fWF1qXYyZ4eB",
    "ExecuteTime": {
     "start_time": "2023-04-03T23:41:42.601697Z",
     "end_time": "2023-04-03T23:45:36.214673Z"
    }
   },
   "execution_count": 36,
   "outputs": []
  },
  {
   "cell_type": "code",
   "source": [
    "# load the saved model from file\n",
    "model = pickle.load(open('/content/model.pkl', 'rb'))\n"
   ],
   "metadata": {
    "colab": {
     "base_uri": "https://localhost:8080/",
     "height": 200
    },
    "id": "umfKPPErfxo8",
    "outputId": "d43940c4-27b1-4529-f126-b43034c6f697"
   },
   "execution_count": null,
   "outputs": [
    {
     "output_type": "error",
     "ename": "NameError",
     "evalue": "ignored",
     "traceback": [
      "\u001B[0;31m---------------------------------------------------------------------------\u001B[0m",
      "\u001B[0;31mNameError\u001B[0m                                 Traceback (most recent call last)",
      "\u001B[0;32m<ipython-input-17-6ecc25137a61>\u001B[0m in \u001B[0;36m<cell line: 2>\u001B[0;34m()\u001B[0m\n\u001B[1;32m      1\u001B[0m \u001B[0;31m# load the saved model from file\u001B[0m\u001B[0;34m\u001B[0m\u001B[0;34m\u001B[0m\u001B[0m\n\u001B[0;32m----> 2\u001B[0;31m \u001B[0mglove_words\u001B[0m \u001B[0;34m=\u001B[0m  \u001B[0mset\u001B[0m\u001B[0;34m(\u001B[0m\u001B[0mmodel\u001B[0m\u001B[0;34m.\u001B[0m\u001B[0mkeys\u001B[0m\u001B[0;34m(\u001B[0m\u001B[0;34m)\u001B[0m\u001B[0;34m)\u001B[0m\u001B[0;34m\u001B[0m\u001B[0;34m\u001B[0m\u001B[0m\n\u001B[0m\u001B[1;32m      3\u001B[0m \u001B[0mmodel\u001B[0m \u001B[0;34m=\u001B[0m \u001B[0mpickle\u001B[0m\u001B[0;34m.\u001B[0m\u001B[0mload\u001B[0m\u001B[0;34m(\u001B[0m\u001B[0mopen\u001B[0m\u001B[0;34m(\u001B[0m\u001B[0;34m'/content/model.pkl'\u001B[0m\u001B[0;34m,\u001B[0m \u001B[0;34m'rb'\u001B[0m\u001B[0;34m)\u001B[0m\u001B[0;34m)\u001B[0m\u001B[0;34m\u001B[0m\u001B[0;34m\u001B[0m\u001B[0m\n",
      "\u001B[0;31mNameError\u001B[0m: name 'model' is not defined"
     ]
    }
   ]
  }
 ],
 "metadata": {
  "colab": {
   "collapsed_sections": [
    "EqmZWn4T9IIV",
    "LXGE4pPZAKuj"
   ],
   "provenance": []
  },
  "kernelspec": {
   "display_name": "Python 3",
   "language": "python",
   "name": "python3"
  },
  "language_info": {
   "codemirror_mode": {
    "name": "ipython",
    "version": 3
   },
   "file_extension": ".py",
   "mimetype": "text/x-python",
   "name": "python",
   "nbconvert_exporter": "python",
   "pygments_lexer": "ipython3",
   "version": "3.11.1"
  },
  "vscode": {
   "interpreter": {
    "hash": "689d612892e2f0622697af4bf0bb920085ceea10970a28f0735bf177fc99ffa6"
   }
  }
 },
 "nbformat": 4,
 "nbformat_minor": 0
}
